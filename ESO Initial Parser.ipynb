{
 "cells": [
  {
   "cell_type": "code",
   "execution_count": 138,
   "metadata": {
    "collapsed": false
   },
   "outputs": [],
   "source": [
    "from bs4 import BeautifulSoup, SoupStrainer\n",
    "import re\n",
    "import requests\n",
    "from sets import Set \n",
    "import mechanize\n",
    "import urllib2"
   ]
  },
  {
   "cell_type": "markdown",
   "metadata": {},
   "source": [
    "The site you gave me as a starting point does not contain the proposals but several links to the proposals within different time frames, so I decided to start from there as well. The first step is to extract those links, and allow the capability to choose between them. "
   ]
  },
  {
   "cell_type": "code",
   "execution_count": 15,
   "metadata": {
    "collapsed": false
   },
   "outputs": [],
   "source": [
    "r = requests.get(\"https://www.eso.org/sci/observing/teles-alloc/all.html\")"
   ]
  },
  {
   "cell_type": "code",
   "execution_count": 17,
   "metadata": {
    "collapsed": false
   },
   "outputs": [],
   "source": [
    "response = r.text"
   ]
  },
  {
   "cell_type": "code",
   "execution_count": 31,
   "metadata": {
    "collapsed": false,
    "scrolled": true
   },
   "outputs": [],
   "source": [
    "pds = []\n",
    "soup = BeautifulSoup(response)\n",
    "for link in soup.find(\"div\", {\"class\": \"par parsys\"}).find_all(\"a\"): \n",
    "    if \"href\" in str(link):\n",
    "        pds.append(link[\"href\"])"
   ]
  },
  {
   "cell_type": "code",
   "execution_count": 85,
   "metadata": {
    "collapsed": false
   },
   "outputs": [
    {
     "name": "stdout",
     "output_type": "stream",
     "text": [
      "http://archive.eso.org/wdb/wdb/eso/approved_runs/query?period=97&order=prog_id&prog_type=%21%3D2\n"
     ]
    }
   ],
   "source": [
    "print pds[0]"
   ]
  },
  {
   "cell_type": "markdown",
   "metadata": {},
   "source": [
    "What we have done is selected the most recent link with regards to time period. This can be updated to choose a link based off of a requested time period. This link takes us to the page in which we can query proposals based off of a string. The query we are going to use randomly here is \"supercluster\" just because that sounds awesome. "
   ]
  },
  {
   "cell_type": "code",
   "execution_count": 86,
   "metadata": {
    "collapsed": true
   },
   "outputs": [],
   "source": [
    "r2 = requests.get(pds[0])"
   ]
  },
  {
   "cell_type": "code",
   "execution_count": 87,
   "metadata": {
    "collapsed": false
   },
   "outputs": [],
   "source": [
    "esosoup = BeautifulSoup(r2.text)"
   ]
  },
  {
   "cell_type": "code",
   "execution_count": 89,
   "metadata": {
    "collapsed": true
   },
   "outputs": [],
   "source": [
    "query = \"asteroid\""
   ]
  },
  {
   "cell_type": "code",
   "execution_count": 96,
   "metadata": {
    "collapsed": false
   },
   "outputs": [],
   "source": [
    "allrows = esosoup.findAll('tr')\n",
    "userrows = [t for t in allrows if t.findAll(text=re.compile(query))]"
   ]
  },
  {
   "cell_type": "code",
   "execution_count": 103,
   "metadata": {
    "collapsed": false
   },
   "outputs": [],
   "source": [
    "ids = []\n",
    "for row in userrows: \n",
    "    ids.append(str(row.a).split(\">\")[1][:-6])"
   ]
  },
  {
   "cell_type": "code",
   "execution_count": 112,
   "metadata": {
    "collapsed": false,
    "scrolled": true
   },
   "outputs": [],
   "source": [
    "query_ids = list(Set(ids))"
   ]
  },
  {
   "cell_type": "code",
   "execution_count": 114,
   "metadata": {
    "collapsed": false
   },
   "outputs": [
    {
     "data": {
      "text/plain": [
       "['097.C-0853',\n",
       " '595.C-0650',\n",
       " '097.C-0912',\n",
       " '095.C-0087',\n",
       " '097.C-0248',\n",
       " '097.C-0166']"
      ]
     },
     "execution_count": 114,
     "metadata": {},
     "output_type": "execute_result"
    }
   ],
   "source": [
    "query_ids"
   ]
  },
  {
   "cell_type": "markdown",
   "metadata": {},
   "source": [
    "Now that we have the ids, we need to plug them into the form so that we can get the correct time and coordinates of the observation. "
   ]
  },
  {
   "cell_type": "code",
   "execution_count": 164,
   "metadata": {
    "collapsed": false
   },
   "outputs": [],
   "source": [
    "browser = mechanize.Browser()\n",
    "browser.set_handle_robots(False)\n",
    "browser.open(\"http://archive.eso.org/eso/eso_archive_main.html\")\n",
    "browser.select_form(nr=0)\n",
    "\n",
    "browser.form['prog_id'] = str(query_ids[1])\n",
    "req = browser.submit()\n",
    "final = req.geturl()\n",
    "x = browser.open(final)\n",
    "test = BeautifulSoup(x)"
   ]
  },
  {
   "cell_type": "code",
   "execution_count": 169,
   "metadata": {
    "collapsed": false
   },
   "outputs": [],
   "source": [
    "rows = test.findAll(\"tr\")\n",
    "out = [t for t in rows if t.findAll(text=re.compile(\"DIMM\"))]"
   ]
  },
  {
   "cell_type": "code",
   "execution_count": 186,
   "metadata": {
    "collapsed": false
   },
   "outputs": [
    {
     "data": {
      "text/plain": [
       "[<td align=\"center\"><div class=\"public_mark\"> <input name=\"dataset\" type=\"checkbox\" value=\"SAF+KMOS.2014-06-06T16:12:43.181\"/> </div></td>,\n",
       " <td align=\"center\"><a href=\"/wdb/wdb/eso/eso_archive_main/query?dp_id=KMOS.2014-06-06T16:12:43.181&amp;format=&amp;tab_stat_plot=on&amp;aladin_colour=aladin_instrument\"><img border=\"0\" height=\"22\" src=\"/wdb/images/more.gif\" width=\"22\"/></a></td>,\n",
       " <td><a href=\"/hdr?DpId=KMOS.2014-06-06T16:12:43.181\" target=\"HDR\">Header</a></td>,\n",
       " <td>WAVE,LAMP</td>,\n",
       " <td>\\xa0</td>,\n",
       " <td><a href=\"/wdb/wdb/eso/sched_rep_arc/query?progid=60.A-9254(A)\">60.A-9254(A)</a></td>,\n",
       " <td>KMOS</td>,\n",
       " <td>CALIB</td>,\n",
       " <td>WAVE,LAMP</td>,\n",
       " <td>SPECTRUM</td>,\n",
       " <td>KMOS.2014-06-06T16:12:43.181</td>,\n",
       " <td>Jun\\xa0\\xa06\\xa02014</td>,\n",
       " <td>KMOS_spec_cal_wave</td>,\n",
       " <td>2014-06-06T16:04:50</td>,\n",
       " <td align=\"right\">12.000</td>,\n",
       " <td>H,H,H</td>,\n",
       " <td align=\"right\">56814.675500</td>,\n",
       " <td align=\"right\">\\xa0</td>,\n",
       " <td><a href=\"http://archive.eso.org/asm/ambient-server?site=paranal&amp;zoom=S&amp;mjd=56814.675499780000000&amp;exptime=12.000&amp;mark=KMOS.2014-06-06T16:12:43.181\" target=\"DIMM\">DIMM\\xa0Seeing?</a></td>]"
      ]
     },
     "execution_count": 186,
     "metadata": {},
     "output_type": "execute_result"
    }
   ],
   "source": [
    "r = []\n",
    "for row in out:\n",
    "    r.append(row.findAll(\"td\")) #row.findAll(\"td\")\n",
    "r[0]"
   ]
  },
  {
   "cell_type": "code",
   "execution_count": null,
   "metadata": {
    "collapsed": true
   },
   "outputs": [],
   "source": []
  }
 ],
 "metadata": {
  "kernelspec": {
   "display_name": "Python 2",
   "language": "python",
   "name": "python2"
  },
  "language_info": {
   "codemirror_mode": {
    "name": "ipython",
    "version": 2
   },
   "file_extension": ".py",
   "mimetype": "text/x-python",
   "name": "python",
   "nbconvert_exporter": "python",
   "pygments_lexer": "ipython2",
   "version": "2.7.11"
  }
 },
 "nbformat": 4,
 "nbformat_minor": 0
}
